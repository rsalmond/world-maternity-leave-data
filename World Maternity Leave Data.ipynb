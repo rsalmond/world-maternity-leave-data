{
 "cells": [
  {
   "cell_type": "markdown",
   "metadata": {},
   "source": [
    "# World Maternity Leave Data\n",
    "\n",
    "A little bit of playing with some data on the maternity leave policies of the world. Leave is in days, pay in percentage of working salary covered. For details on the data sources see [the readme](README.md). "
   ]
  },
  {
   "cell_type": "code",
   "execution_count": 4,
   "metadata": {
    "collapsed": false
   },
   "outputs": [],
   "source": [
    "import pandas as pd\n",
    "un = pd.read_csv('matleave-un.csv', index_col=0)\n",
    "wiki = pd.read_csv('matleave-wikipedia.csv', index_col=0)\n",
    "\n",
    "# A bit of data munging, merge the two datasets into one favouring wikipedia, filling \n",
    "# in UN data where needed and removing empty rows, then manual numeric conversion due\n",
    "# to some notes in where things are missing.\n",
    "\n",
    "df = wiki.combine_first(un).dropna(how='all')\n",
    "df['Pay'] = pd.to_numeric(df['Pay'], errors='coerce')\n",
    "df['Leave'] = pd.to_numeric(df['Leave'], errors='coerce')\n"
   ]
  },
  {
   "cell_type": "code",
   "execution_count": 52,
   "metadata": {
    "collapsed": false
   },
   "outputs": [],
   "source": [
    "import bqplot.pyplot as plt\n",
    "from bqplot.interacts import PanZoom\n",
    "\n",
    "sc_x = plt.LinearScale()\n",
    "sc_y = plt.LinearScale()\n",
    "\n",
    "panzoom = PanZoom(scales={'x': [sc_x], 'y': [sc_y]})\n",
    "\n",
    "scatter = plt.Scatter(\n",
    "    x=df['Leave'],\n",
    "    y=df['Pay'],\n",
    "    names=df.index.values,\n",
    "    scales={'x': sc_x, 'y': sc_y})\n",
    "\n",
    "ax_x = plt.Axis(label='Days of Leave', scale=sc_x)\n",
    "ax_y = plt.Axis(label='Percent of Pay', orientation='vertical', scale=sc_y)\n",
    "\n",
    "figure = plt.Figure(marks=[scatter], axes=[ax_x, ax_y], interaction=panzoom)\n",
    "figure"
   ]
  },
  {
   "cell_type": "code",
   "execution_count": 78,
   "metadata": {
    "collapsed": false
   },
   "outputs": [],
   "source": [
    "from bokeh.models import Title, LabelSet, ColumnDataSource\n",
    "from bokeh.plotting import figure, output_file, show\n",
    "\n",
    "output_file(\"chart.html\")\n",
    "\n",
    "p = figure()\n",
    "p.title.text=\"World Maternity Leave Data\"\n",
    "p.title.align=\"right\"\n",
    "p.title.text_font_size=\"20px\"\n",
    "\n",
    "p.add_layout(Title(text=\"Percent of Pay\", align=\"center\"), \"below\")\n",
    "p.add_layout(Title(text=\"Days of Leave\", align=\"center\"), \"left\")\n",
    "\n",
    "source = ColumnDataSource(data=dict(days=df['Leave'], pay=df['Pay'], country=df.index.values))\n",
    "\n",
    "p.scatter(x='pay', y='days', size=5, source=source)\n",
    "\n",
    "p.add_layout(LabelSet(\n",
    "        x='pay',\n",
    "        y='days',\n",
    "        text='country',\n",
    "        x_offset=5,\n",
    "        y_offset=5,\n",
    "        level='glyph',\n",
    "        source=source))\n",
    "\n",
    "#p.circle(df['Pay'], df['Leave'], size=5)\n",
    "\n",
    "show(p)"
   ]
  }
 ],
 "metadata": {
  "anaconda-cloud": {},
  "kernelspec": {
   "display_name": "Python [Root]",
   "language": "python",
   "name": "Python [Root]"
  },
  "language_info": {
   "codemirror_mode": {
    "name": "ipython",
    "version": 3
   },
   "file_extension": ".py",
   "mimetype": "text/x-python",
   "name": "python",
   "nbconvert_exporter": "python",
   "pygments_lexer": "ipython3",
   "version": "3.5.2"
  },
  "widgets": {
   "state": {
    "0e12364d54c8482a8024a50960dbe050": {
     "views": [
      {
       "cell_index": 2
      }
     ]
    }
   },
   "version": "1.2.0"
  }
 },
 "nbformat": 4,
 "nbformat_minor": 0
}
