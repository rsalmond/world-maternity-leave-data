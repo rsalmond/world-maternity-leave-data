{
 "cells": [
  {
   "cell_type": "markdown",
   "metadata": {},
   "source": [
    "# World Maternity Leave Data\n",
    "\n",
    "A little bit of playing with some data on the maternity leave policies of the world. Leave is in days, pay in percentage of working salary covered. For details on the data sources see [the readme](README.md). "
   ]
  },
  {
   "cell_type": "code",
   "execution_count": 4,
   "metadata": {
    "collapsed": false
   },
   "outputs": [],
   "source": [
    "import pandas as pd\n",
    "un = pd.read_csv('matleave-un.csv', index_col=0)\n",
    "wiki = pd.read_csv('matleave-wikipedia.csv', index_col=0)\n",
    "\n",
    "# A bit of data munging, merge the two datasets into one favouring wikipedia, filling \n",
    "# in UN data where needed and removing empty rows, then manual numeric conversion due\n",
    "# to some notes in where things are missing.\n",
    "\n",
    "df = wiki.combine_first(un).dropna(how='all')\n",
    "df['Pay'] = pd.to_numeric(df['Pay'], errors='coerce')\n",
    "df['Leave'] = pd.to_numeric(df['Leave'], errors='coerce')\n"
   ]
  },
  {
   "cell_type": "code",
   "execution_count": 45,
   "metadata": {
    "collapsed": false
   },
   "outputs": [
    {
     "ename": "AttributeError",
     "evalue": "module 'bqplot.pyplot' has no attribute 'PanZoom'",
     "output_type": "error",
     "traceback": [
      "\u001b[1;31m---------------------------------------------------------------------------\u001b[0m",
      "\u001b[1;31mAttributeError\u001b[0m                            Traceback (most recent call last)",
      "\u001b[1;32m<ipython-input-45-b485087f5180>\u001b[0m in \u001b[0;36m<module>\u001b[1;34m()\u001b[0m\n\u001b[0;32m      5\u001b[0m \u001b[0msc_y\u001b[0m \u001b[1;33m=\u001b[0m \u001b[0mplt\u001b[0m\u001b[1;33m.\u001b[0m\u001b[0mLinearScale\u001b[0m\u001b[1;33m(\u001b[0m\u001b[1;33m)\u001b[0m\u001b[1;33m\u001b[0m\u001b[0m\n\u001b[0;32m      6\u001b[0m \u001b[1;33m\u001b[0m\u001b[0m\n\u001b[1;32m----> 7\u001b[1;33m \u001b[0mpanzoom\u001b[0m \u001b[1;33m=\u001b[0m \u001b[0mplt\u001b[0m\u001b[1;33m.\u001b[0m\u001b[0mPanZoom\u001b[0m\u001b[1;33m(\u001b[0m\u001b[0mscales\u001b[0m\u001b[1;33m=\u001b[0m\u001b[1;33m{\u001b[0m\u001b[1;34m'x'\u001b[0m\u001b[1;33m:\u001b[0m \u001b[1;33m[\u001b[0m\u001b[0msc_x\u001b[0m\u001b[1;33m]\u001b[0m\u001b[1;33m,\u001b[0m \u001b[1;34m'y'\u001b[0m\u001b[1;33m:\u001b[0m \u001b[1;33m[\u001b[0m\u001b[0msc_y\u001b[0m\u001b[1;33m]\u001b[0m\u001b[1;33m}\u001b[0m\u001b[1;33m)\u001b[0m\u001b[1;33m\u001b[0m\u001b[0m\n\u001b[0m\u001b[0;32m      8\u001b[0m \u001b[1;33m\u001b[0m\u001b[0m\n\u001b[0;32m      9\u001b[0m scatter = plt.Scatter(\n",
      "\u001b[1;31mAttributeError\u001b[0m: module 'bqplot.pyplot' has no attribute 'PanZoom'"
     ]
    }
   ],
   "source": [
    "import bqplot.pyplot as plt\n",
    "import numpy as np\n",
    "\n",
    "sc_x = plt.LinearScale()\n",
    "sc_y = plt.LinearScale()\n",
    "\n",
    "panzoom = plt.PanZoom(scales={'x': [sc_x], 'y': [sc_y]})\n",
    "\n",
    "scatter = plt.Scatter(\n",
    "    x=df['Leave'],\n",
    "    y=df['Pay'],\n",
    "    names=df.index.values,\n",
    "    scales={'x': sc_x, 'y': sc_y})\n",
    "\n",
    "ax_x = plt.Axis(label='Days of Leave', scale=sc_x)\n",
    "ax_y = plt.Axis(label='Percent of Pay', orientation='vertical', scale=sc_y)\n",
    "plt.Figure(marks=[scatter], axes=[ax_x, ax_y], interaction=panzoom)\n",
    "#len(df.index.values), len(df['Leave']), len(df['Pay'])\n"
   ]
  }
 ],
 "metadata": {
  "anaconda-cloud": {},
  "kernelspec": {
   "display_name": "Python [Root]",
   "language": "python",
   "name": "Python [Root]"
  },
  "language_info": {
   "codemirror_mode": {
    "name": "ipython",
    "version": 3
   },
   "file_extension": ".py",
   "mimetype": "text/x-python",
   "name": "python",
   "nbconvert_exporter": "python",
   "pygments_lexer": "ipython3",
   "version": "3.5.2"
  }
 },
 "nbformat": 4,
 "nbformat_minor": 0
}
