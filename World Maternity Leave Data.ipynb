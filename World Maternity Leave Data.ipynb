{
 "cells": [
  {
   "cell_type": "markdown",
   "metadata": {},
   "source": [
    "# World Maternity Leave Data\n",
    "\n",
    "A little bit of playing with some data on the maternity leave policies of the world. Leave is in days, pay in percentage of working salary covered. For details on the data sources see [the readme](README.md). "
   ]
  },
  {
   "cell_type": "code",
   "execution_count": 4,
   "metadata": {
    "collapsed": false
   },
   "outputs": [],
   "source": [
    "import pandas as pd\n",
    "un = pd.read_csv('matleave-un.csv', index_col=0)\n",
    "wiki = pd.read_csv('matleave-wikipedia.csv', index_col=0)\n",
    "\n",
    "# A bit of data munging, merge the two datasets into one favouring wikipedia, filling \n",
    "# in UN data where needed and removing empty rows, then manual numeric conversion due\n",
    "# to some notes in where things are missing.\n",
    "\n",
    "df = wiki.combine_first(un).dropna(how='all')\n",
    "df['Pay'] = pd.to_numeric(df['Pay'], errors='coerce')\n",
    "df['Leave'] = pd.to_numeric(df['Leave'], errors='coerce')\n"
   ]
  },
  {
   "cell_type": "code",
   "execution_count": 47,
   "metadata": {
    "collapsed": false
   },
   "outputs": [],
   "source": [
    "import bqplot.pyplot as plt\n",
    "from bqplot.interacts import PanZoom\n",
    "\n",
    "sc_x = plt.LinearScale()\n",
    "sc_y = plt.LinearScale()\n",
    "\n",
    "panzoom = PanZoom(scales={'x': [sc_x], 'y': [sc_y]})\n",
    "\n",
    "scatter = plt.Scatter(\n",
    "    x=df['Leave'],\n",
    "    y=df['Pay'],\n",
    "    names=df.index.values,\n",
    "    scales={'x': sc_x, 'y': sc_y})\n",
    "\n",
    "ax_x = plt.Axis(label='Days of Leave', scale=sc_x)\n",
    "ax_y = plt.Axis(label='Percent of Pay', orientation='vertical', scale=sc_y)\n",
    "\n",
    "plt.Figure(marks=[scatter], axes=[ax_x, ax_y], interaction=panzoom)"
   ]
  }
 ],
 "metadata": {
  "anaconda-cloud": {},
  "kernelspec": {
   "display_name": "Python [Root]",
   "language": "python",
   "name": "Python [Root]"
  },
  "language_info": {
   "codemirror_mode": {
    "name": "ipython",
    "version": 3
   },
   "file_extension": ".py",
   "mimetype": "text/x-python",
   "name": "python",
   "nbconvert_exporter": "python",
   "pygments_lexer": "ipython3",
   "version": "3.5.2"
  },
  "widgets": {
   "state": {
    "7988f0af64274922b6016d61364c26c6": {
     "views": [
      {
       "cell_index": 2
      }
     ]
    }
   },
   "version": "1.2.0"
  }
 },
 "nbformat": 4,
 "nbformat_minor": 0
}
